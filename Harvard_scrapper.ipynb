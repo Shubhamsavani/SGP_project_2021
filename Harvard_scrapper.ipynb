{
 "cells": [
  {
   "cell_type": "code",
   "execution_count": 149,
   "source": [
    "import requests\r\n",
    "from bs4 import BeautifulSoup\r\n",
    "import pandas as pd\r\n",
    "url='https://online-learning.harvard.edu/catalog?keywords=&subject%5B%5D=100&max_price=&start_date_range%5Bmin%5D%5Bdate%5D=&start_date_range%5Bmax%5D%5Bdate%5D='\r\n",
    "response=requests.get(url)\r\n",
    "if response.status_code != 200:\r\n",
    "    raise Exception('Failed to load page{}'.format(url))"
   ],
   "outputs": [],
   "metadata": {}
  },
  {
   "cell_type": "code",
   "execution_count": 150,
   "source": [
    "soup=BeautifulSoup(response.text,'html.parser')\r\n",
    "def get_topics_url():\r\n",
    "    name_div=soup.find_all('div',class_='field field-name-title-qs')\r\n",
    "    course_title=[]\r\n",
    "    course_url=[]\r\n",
    "    for i in range(len(name_div)):\r\n",
    "        h3=name_div[i].find('h3')\r\n",
    "        name=h3.find('a')\r\n",
    "        course_url.append(\"https://online-learning.harvard.edu\"+name['href'])\r\n",
    "        course_title.append(name.text)\r\n",
    "    return course_title,course_url"
   ],
   "outputs": [],
   "metadata": {}
  },
  {
   "cell_type": "code",
   "execution_count": 151,
   "source": [
    "ret=get_topics_url()\r\n",
    "course_title=ret[0]\r\n",
    "course_url=ret[1]"
   ],
   "outputs": [],
   "metadata": {}
  },
  {
   "cell_type": "code",
   "execution_count": 152,
   "source": [
    "def get_details(x):\r\n",
    "    sc_url=course_url[x]\r\n",
    "    response = requests.get(sc_url)\r\n",
    "    if response.status_code != 200:\r\n",
    "        raise Exception('Failed to load page this {}'.format(url))\r\n",
    "    soup=BeautifulSoup(response.text,'html.parser')\r\n",
    "    duration=soup.find('div',class_='field field-name-field-duration')\r\n",
    "    temp_div=soup.find('div',class_='field field-name-field-difficulty field-type-list-text field-label-inline clearfix')\r\n",
    "    diff=temp_div.find('div',class_='field')\r\n",
    "    te_div=soup.find('div',class_='field field-name-field-credit field-type-list-text field-label-inline clearfix')\r\n",
    "    audit=te_div.find('div',class_='field')\r\n",
    "    return duration.text,diff.text,audit.text\r\n"
   ],
   "outputs": [],
   "metadata": {}
  },
  {
   "cell_type": "code",
   "execution_count": 153,
   "source": [
    "duration=[]\r\n",
    "difficulty=[]\r\n",
    "audit=[]\r\n",
    "for j in range(len(course_url)):\r\n",
    "    reply=get_details(j)\r\n",
    "    duration.append(reply[0])\r\n",
    "    difficulty.append(reply[1])\r\n",
    "    audit.append(reply[2])\r\n",
    "all_dict={\r\n",
    "    'name':course_title,\r\n",
    "    'difficulty':difficulty,\r\n",
    "    'audit':audit,\r\n",
    "    'duration':duration,\r\n",
    "    'url':course_url\r\n",
    "}\r\n",
    "# converting to dataframe \r\n",
    "all_dataframe=pd.DataFrame(all_dict)\r\n",
    "all_dataframe.to_csv('Harvard_info.csv',index=None)\r\n",
    "\r\n"
   ],
   "outputs": [],
   "metadata": {}
  },
  {
   "cell_type": "code",
   "execution_count": null,
   "source": [],
   "outputs": [],
   "metadata": {}
  }
 ],
 "metadata": {
  "orig_nbformat": 4,
  "language_info": {
   "name": "python",
   "version": "3.9.6",
   "mimetype": "text/x-python",
   "codemirror_mode": {
    "name": "ipython",
    "version": 3
   },
   "pygments_lexer": "ipython3",
   "nbconvert_exporter": "python",
   "file_extension": ".py"
  },
  "kernelspec": {
   "name": "python3",
   "display_name": "Python 3.9.6 64-bit"
  },
  "interpreter": {
   "hash": "c569cd2e17f62341e0f08a54f9a867c3c0d3a6f67454072d7de41a8b5dff8343"
  }
 },
 "nbformat": 4,
 "nbformat_minor": 2
}