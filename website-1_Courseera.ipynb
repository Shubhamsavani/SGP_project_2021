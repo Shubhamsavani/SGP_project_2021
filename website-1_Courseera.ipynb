{
 "cells": [
  {
   "cell_type": "markdown",
   "source": [
    "# Scrapping Website-1 Courseera\r\n"
   ],
   "metadata": {}
  },
  {
   "cell_type": "markdown",
   "source": [
    "## Browse through and decide the content you want to scrape from this website\r\n"
   ],
   "metadata": {}
  },
  {
   "cell_type": "markdown",
   "source": [
    "## Browse through and decide the content you want to scrape from this website\r\n"
   ],
   "metadata": {}
  },
  {
   "cell_type": "markdown",
   "source": [
    "## Use requests library to download the web pages\r\n",
    "\r\n",
    "## Use BeautifulSoup Library to extract information you want\r\n",
    "\r\n",
    "## Documenet your work\r\n"
   ],
   "metadata": {}
  },
  {
   "cell_type": "code",
   "execution_count": 28,
   "source": [
    "!pip install requests --upgrade --quiet\r\n"
   ],
   "outputs": [],
   "metadata": {}
  },
  {
   "cell_type": "code",
   "execution_count": 29,
   "source": [
    "import requests\r\n"
   ],
   "outputs": [],
   "metadata": {}
  },
  {
   "cell_type": "code",
   "execution_count": 30,
   "source": [
    "!pip install beautifulsoup4 --upgrade --quiet\r\n"
   ],
   "outputs": [],
   "metadata": {}
  },
  {
   "cell_type": "code",
   "execution_count": 31,
   "source": [
    "from bs4 import BeautifulSoup\r\n"
   ],
   "outputs": [],
   "metadata": {}
  },
  {
   "cell_type": "code",
   "execution_count": 32,
   "source": [
    "# Here i have open up the url which we want to scrape converted to beautifulsoup type and now it is ready to get scrapped\r\n",
    "def scrape_topics(scrapping_url):\r\n",
    "# using requests library to download the webpage\r\n",
    "    response = requests.get(scrapping_url)\r\n",
    "    content = response.text\r\n",
    "# If get() method is succesfull in downloading the webpage then the status code will return 200\r\n",
    "    if(response.status_code != 200):\r\n",
    "        raise Exception('Failed to load page {}'.format(scrapping_url))\r\n",
    "# parsing the webpage using beautifulsoup\r\n",
    "    doc = BeautifulSoup(content, 'html.parser')\r\n",
    "    return doc\r\n",
    "    "
   ],
   "outputs": [],
   "metadata": {}
  },
  {
   "cell_type": "code",
   "execution_count": 33,
   "source": [
    "# searching tags for topic's title\r\n",
    "def search_title_tags(doc):\r\n",
    "    topic_selection_class = 'cds-7 card-title css-iyr9nj cds-9'\r\n",
    "    topic_title_tags = doc.find_all('h2' , {'class' : topic_selection_class})\r\n",
    "    return topic_title_tags\r\n"
   ],
   "outputs": [],
   "metadata": {}
  },
  {
   "cell_type": "code",
   "execution_count": 34,
   "source": [
    "# extracting topic names with the help of tags collected  and storing it in list\r\n",
    "def extract_topic_titles(Topic_Title_Tags):\r\n",
    "    topic_titles = []\r\n",
    "    for tag in Topic_Title_Tags:\r\n",
    "        topic_titles.append(tag.text)\r\n",
    "\r\n",
    "    return topic_titles"
   ],
   "outputs": [],
   "metadata": {}
  },
  {
   "cell_type": "code",
   "execution_count": 35,
   "source": [
    "# searching tags for the name of university\r\n",
    "def search_university_name_tags(doc):\r\n",
    "    university_selector_class = 'cds-7 partner-name css-mx49ok cds-9'\r\n",
    "    university_name_tags = doc.find_all('span' ,{'class' : university_selector_class})\r\n",
    "    return university_name_tags"
   ],
   "outputs": [],
   "metadata": {}
  },
  {
   "cell_type": "code",
   "execution_count": 36,
   "source": [
    "# extracting university names with the help of tags collected \r\n",
    "def extract_university_names(University_Name_tags):\r\n",
    "    University_names = []\r\n",
    "    for tag in University_Name_tags:\r\n",
    "        University_names.append(tag.text)\r\n",
    "    \r\n",
    "    return University_names"
   ],
   "outputs": [],
   "metadata": {}
  },
  {
   "cell_type": "code",
   "execution_count": 37,
   "source": [
    "# searching tags for number of  Enrolled Students\r\n",
    "def search_enrolled_students(doc):\r\n",
    "    Enrolled_Students_selection_class = 'enrollment-number'\r\n",
    "    Enrolled_Students_tags = doc.find_all('span' , {'class' : Enrolled_Students_selection_class})\r\n",
    "    return Enrolled_Students_tags"
   ],
   "outputs": [],
   "metadata": {}
  },
  {
   "cell_type": "code",
   "execution_count": 38,
   "source": [
    "# extracting enrolled students with the help of tags collected \r\n",
    "def extract_Students_Enrolled(Enrolled_Students_tags):\r\n",
    "    Students_Enrolled = []\r\n",
    "    for tag in Enrolled_Students_tags:\r\n",
    "        Students_Enrolled.append(tag.text)\r\n",
    "\r\n",
    "    return Students_Enrolled"
   ],
   "outputs": [],
   "metadata": {}
  },
  {
   "cell_type": "code",
   "execution_count": 39,
   "source": [
    "# searching tags for each topic's url\r\n",
    "def search_topic_urls(doc,topic_title_tags):\r\n",
    "    topic_link_tags = []\r\n",
    "    for i in range(len(topic_title_tags)):\r\n",
    "        topic_link_tags.append(topic_title_tags[i].parent.parent.parent)\r\n",
    "    return topic_link_tags"
   ],
   "outputs": [],
   "metadata": {}
  },
  {
   "cell_type": "code",
   "execution_count": 40,
   "source": [
    "# extracting topic urls with the help of tags collected \r\n",
    "def extract_Topic_urls(Topic_link_tags): \r\n",
    "    topic_urls = []\r\n",
    "    base_url = \"https://www.coursera.org\"\r\n",
    "    for tag in Topic_link_tags:\r\n",
    "        topic_urls.append(base_url + tag['to'])\r\n",
    "    \r\n",
    "    return topic_urls"
   ],
   "outputs": [],
   "metadata": {}
  },
  {
   "cell_type": "code",
   "execution_count": 41,
   "source": [
    "# searching tags for ratings\r\n",
    "def search_ratings(doc):\r\n",
    "    star_selection_class = 'ratings-text'\r\n",
    "    star_tags = doc.find_all('span',{'class' : star_selection_class})\r\n",
    "    return star_tags"
   ],
   "outputs": [],
   "metadata": {}
  },
  {
   "cell_type": "code",
   "execution_count": 42,
   "source": [
    "# extracting ratings with the help of tags collected \r\n",
    "def extract_ratings(star_tags):\r\n",
    "    stars = [] # empty list \r\n",
    "    for i in range(len(star_tags)):\r\n",
    "        stars.append(star_tags[i].text)\r\n",
    "    \r\n",
    "    return stars"
   ],
   "outputs": [],
   "metadata": {}
  },
  {
   "cell_type": "code",
   "execution_count": 43,
   "source": [
    "# url which we want to scrap\r\n",
    "scrapping_url = 'https://www.coursera.org/courses?query=free'  "
   ],
   "outputs": [],
   "metadata": {}
  },
  {
   "cell_type": "code",
   "execution_count": 44,
   "source": [
    "# doc is a BeautifulSoup type containing parsed HTML code of scrapping_url\r\n",
    "doc = scrape_topics(scrapping_url)"
   ],
   "outputs": [],
   "metadata": {}
  },
  {
   "cell_type": "code",
   "execution_count": 45,
   "source": [
    "# Collecting tags which contains title of topics\r\n",
    "Topic_Title_Tags = search_title_tags(doc)\r\n",
    "\r\n",
    "# Collecting tags which contains university names\r\n",
    "University_Name_Tags = search_university_name_tags(doc)\r\n",
    "\r\n",
    "# Collecting tags which contains url for each topic\r\n",
    "Topic_url_Tags = search_topic_urls(doc,Topic_Title_Tags)\r\n",
    "\r\n",
    "# Collecting tags which contains number of students enrolled in each course\r\n",
    "Enrolled_Student_Tags = search_enrolled_students(doc)\r\n",
    "\r\n",
    "# Collecting tags which contains ratings of each course\r\n",
    "Rating_tags = search_ratings(doc)"
   ],
   "outputs": [],
   "metadata": {}
  },
  {
   "cell_type": "code",
   "execution_count": 46,
   "source": [
    "# Topic_List is list containing topic titles\r\n",
    "Topic_List = extract_topic_titles(Topic_Title_Tags) \r\n",
    "\r\n",
    "# University_Names is a list containing University names for corresponding course\r\n",
    "University_Names = extract_university_names(University_Name_Tags)\r\n",
    "\r\n",
    "# Students_Enrolled is a list contains number of students enrolled for corresponding course\r\n",
    "Students_Enrolled = extract_Students_Enrolled(Enrolled_Student_Tags)\r\n",
    "\r\n",
    "# Topic_urls is a list containing url for corresponding course\r\n",
    "Topic_urls = extract_Topic_urls(Topic_url_Tags)\r\n",
    "\r\n",
    "# Ratings is a list containg rating for corresponding courses\r\n",
    "Ratings = extract_ratings(Rating_tags)"
   ],
   "outputs": [],
   "metadata": {}
  },
  {
   "cell_type": "markdown",
   "source": [
    "### Creating Data Frame using Pandas"
   ],
   "metadata": {}
  },
  {
   "cell_type": "code",
   "execution_count": 47,
   "source": [
    "!pip install pandas --quiet"
   ],
   "outputs": [],
   "metadata": {}
  },
  {
   "cell_type": "code",
   "execution_count": 48,
   "source": [
    "import pandas as pd"
   ],
   "outputs": [],
   "metadata": {}
  },
  {
   "cell_type": "code",
   "execution_count": 49,
   "source": [
    "# Using dictionary i am giving a new name to coloumns which i am going to create using panda daraframe\r\n",
    "Courses_Info_dict = {\r\n",
    "    'Courses' : Topic_List,\r\n",
    "    'Offered by' : University_Names,\r\n",
    "    'Url' : Topic_urls,\r\n",
    "    'Students Enrolled' : Students_Enrolled,\r\n",
    "    'Ratings' : Ratings\r\n",
    "}"
   ],
   "outputs": [],
   "metadata": {}
  },
  {
   "cell_type": "code",
   "execution_count": 50,
   "source": [
    "Courses_Data_Frame = pd.DataFrame(Courses_Info_dict)"
   ],
   "outputs": [],
   "metadata": {}
  },
  {
   "cell_type": "code",
   "execution_count": 51,
   "source": [
    "Courses_Data_Frame"
   ],
   "outputs": [
    {
     "output_type": "execute_result",
     "data": {
      "text/html": [
       "<div>\n",
       "<style scoped>\n",
       "    .dataframe tbody tr th:only-of-type {\n",
       "        vertical-align: middle;\n",
       "    }\n",
       "\n",
       "    .dataframe tbody tr th {\n",
       "        vertical-align: top;\n",
       "    }\n",
       "\n",
       "    .dataframe thead th {\n",
       "        text-align: right;\n",
       "    }\n",
       "</style>\n",
       "<table border=\"1\" class=\"dataframe\">\n",
       "  <thead>\n",
       "    <tr style=\"text-align: right;\">\n",
       "      <th></th>\n",
       "      <th>Courses</th>\n",
       "      <th>Offered by</th>\n",
       "      <th>Url</th>\n",
       "      <th>Students Enrolled</th>\n",
       "      <th>Ratings</th>\n",
       "    </tr>\n",
       "  </thead>\n",
       "  <tbody>\n",
       "    <tr>\n",
       "      <th>0</th>\n",
       "      <td>Machine Learning</td>\n",
       "      <td>Stanford University</td>\n",
       "      <td>https://www.coursera.org/learn/machine-learning</td>\n",
       "      <td>4.4m</td>\n",
       "      <td>4.9</td>\n",
       "    </tr>\n",
       "    <tr>\n",
       "      <th>1</th>\n",
       "      <td>Indigenous Canada</td>\n",
       "      <td>University of Alberta</td>\n",
       "      <td>https://www.coursera.org/learn/indigenous-canada</td>\n",
       "      <td>390k</td>\n",
       "      <td>4.8</td>\n",
       "    </tr>\n",
       "    <tr>\n",
       "      <th>2</th>\n",
       "      <td>The Science of Well-Being</td>\n",
       "      <td>Yale University</td>\n",
       "      <td>https://www.coursera.org/learn/the-science-of-...</td>\n",
       "      <td>3.6m</td>\n",
       "      <td>4.9</td>\n",
       "    </tr>\n",
       "    <tr>\n",
       "      <th>3</th>\n",
       "      <td>Financial Markets</td>\n",
       "      <td>Yale University</td>\n",
       "      <td>https://www.coursera.org/learn/financial-marke...</td>\n",
       "      <td>1m</td>\n",
       "      <td>4.8</td>\n",
       "    </tr>\n",
       "    <tr>\n",
       "      <th>4</th>\n",
       "      <td>Introduction to Psychology</td>\n",
       "      <td>Yale University</td>\n",
       "      <td>https://www.coursera.org/learn/introduction-ps...</td>\n",
       "      <td>740k</td>\n",
       "      <td>4.8</td>\n",
       "    </tr>\n",
       "    <tr>\n",
       "      <th>5</th>\n",
       "      <td>Writing in the Sciences</td>\n",
       "      <td>Stanford University</td>\n",
       "      <td>https://www.coursera.org/learn/sciwrite</td>\n",
       "      <td>260k</td>\n",
       "      <td>4.9</td>\n",
       "    </tr>\n",
       "    <tr>\n",
       "      <th>6</th>\n",
       "      <td>Successful Negotiation: Essential Strategies a...</td>\n",
       "      <td>University of Michigan</td>\n",
       "      <td>https://www.coursera.org/learn/negotiation-skills</td>\n",
       "      <td>1.1m</td>\n",
       "      <td>4.8</td>\n",
       "    </tr>\n",
       "    <tr>\n",
       "      <th>7</th>\n",
       "      <td>First Step Korean</td>\n",
       "      <td>Yonsei University</td>\n",
       "      <td>https://www.coursera.org/learn/learn-korean</td>\n",
       "      <td>1m</td>\n",
       "      <td>4.9</td>\n",
       "    </tr>\n",
       "    <tr>\n",
       "      <th>8</th>\n",
       "      <td>Brand Management: Aligning Business, Brand and...</td>\n",
       "      <td>University of London</td>\n",
       "      <td>https://www.coursera.org/learn/brand</td>\n",
       "      <td>210k</td>\n",
       "      <td>4.9</td>\n",
       "    </tr>\n",
       "    <tr>\n",
       "      <th>9</th>\n",
       "      <td>Stanford Introduction to Food and Health</td>\n",
       "      <td>Stanford University</td>\n",
       "      <td>https://www.coursera.org/learn/food-and-health</td>\n",
       "      <td>610k</td>\n",
       "      <td>4.7</td>\n",
       "    </tr>\n",
       "    <tr>\n",
       "      <th>10</th>\n",
       "      <td>Introduction to Statistics</td>\n",
       "      <td>Stanford University</td>\n",
       "      <td>https://www.coursera.org/learn/stanford-statis...</td>\n",
       "      <td>44k</td>\n",
       "      <td>4.6</td>\n",
       "    </tr>\n",
       "    <tr>\n",
       "      <th>11</th>\n",
       "      <td>Private Equity and Venture Capital</td>\n",
       "      <td>UniversitÃ  Bocconi</td>\n",
       "      <td>https://www.coursera.org/learn/private-equity</td>\n",
       "      <td>140k</td>\n",
       "      <td>4.8</td>\n",
       "    </tr>\n",
       "    <tr>\n",
       "      <th>12</th>\n",
       "      <td>Agile with Atlassian Jira</td>\n",
       "      <td>Atlassian</td>\n",
       "      <td>https://www.coursera.org/learn/agile-atlassian...</td>\n",
       "      <td>110k</td>\n",
       "      <td>4.7</td>\n",
       "    </tr>\n",
       "    <tr>\n",
       "      <th>13</th>\n",
       "      <td>Clinical Terminology for International and U.S...</td>\n",
       "      <td>University of Pittsburgh</td>\n",
       "      <td>https://www.coursera.org/learn/clinical-termin...</td>\n",
       "      <td>76k</td>\n",
       "      <td>4.8</td>\n",
       "    </tr>\n",
       "    <tr>\n",
       "      <th>14</th>\n",
       "      <td>Introduction to Negotiation: A Strategic Playb...</td>\n",
       "      <td>Yale University</td>\n",
       "      <td>https://www.coursera.org/learn/negotiation</td>\n",
       "      <td>390k</td>\n",
       "      <td>4.9</td>\n",
       "    </tr>\n",
       "    <tr>\n",
       "      <th>15</th>\n",
       "      <td>Game Theory</td>\n",
       "      <td>Stanford University</td>\n",
       "      <td>https://www.coursera.org/learn/game-theory-1</td>\n",
       "      <td>350k</td>\n",
       "      <td>4.6</td>\n",
       "    </tr>\n",
       "    <tr>\n",
       "      <th>16</th>\n",
       "      <td>The Strategy of Content Marketing</td>\n",
       "      <td>University of California, Davis</td>\n",
       "      <td>https://www.coursera.org/learn/content-marketing</td>\n",
       "      <td>240k</td>\n",
       "      <td>4.5</td>\n",
       "    </tr>\n",
       "    <tr>\n",
       "      <th>17</th>\n",
       "      <td>Primeros Auxilios PsicolÃ³gicos (PAP)</td>\n",
       "      <td>Universitat AutÃ²noma de Barcelona</td>\n",
       "      <td>https://www.coursera.org/learn/pap</td>\n",
       "      <td>400k</td>\n",
       "      <td>4.8</td>\n",
       "    </tr>\n",
       "    <tr>\n",
       "      <th>18</th>\n",
       "      <td>Management of Fashion and Luxury Companies</td>\n",
       "      <td>UniversitÃ  Bocconi</td>\n",
       "      <td>https://www.coursera.org/learn/mafash</td>\n",
       "      <td>180k</td>\n",
       "      <td>4.7</td>\n",
       "    </tr>\n",
       "    <tr>\n",
       "      <th>19</th>\n",
       "      <td>Managing Emotions in Times of Uncertainty &amp; St...</td>\n",
       "      <td>Yale University</td>\n",
       "      <td>https://www.coursera.org/learn/managing-emotio...</td>\n",
       "      <td>73k</td>\n",
       "      <td>4.8</td>\n",
       "    </tr>\n",
       "  </tbody>\n",
       "</table>\n",
       "</div>"
      ],
      "text/plain": [
       "                                              Courses  \\\n",
       "0                                    Machine Learning   \n",
       "1                                   Indigenous Canada   \n",
       "2                           The Science of Well-Being   \n",
       "3                                   Financial Markets   \n",
       "4                          Introduction to Psychology   \n",
       "5                             Writing in the Sciences   \n",
       "6   Successful Negotiation: Essential Strategies a...   \n",
       "7                                   First Step Korean   \n",
       "8   Brand Management: Aligning Business, Brand and...   \n",
       "9            Stanford Introduction to Food and Health   \n",
       "10                         Introduction to Statistics   \n",
       "11                 Private Equity and Venture Capital   \n",
       "12                          Agile with Atlassian Jira   \n",
       "13  Clinical Terminology for International and U.S...   \n",
       "14  Introduction to Negotiation: A Strategic Playb...   \n",
       "15                                        Game Theory   \n",
       "16                  The Strategy of Content Marketing   \n",
       "17              Primeros Auxilios PsicolÃ³gicos (PAP)   \n",
       "18         Management of Fashion and Luxury Companies   \n",
       "19  Managing Emotions in Times of Uncertainty & St...   \n",
       "\n",
       "                            Offered by  \\\n",
       "0                  Stanford University   \n",
       "1                University of Alberta   \n",
       "2                      Yale University   \n",
       "3                      Yale University   \n",
       "4                      Yale University   \n",
       "5                  Stanford University   \n",
       "6               University of Michigan   \n",
       "7                    Yonsei University   \n",
       "8                 University of London   \n",
       "9                  Stanford University   \n",
       "10                 Stanford University   \n",
       "11                 UniversitÃ  Bocconi   \n",
       "12                           Atlassian   \n",
       "13            University of Pittsburgh   \n",
       "14                     Yale University   \n",
       "15                 Stanford University   \n",
       "16     University of California, Davis   \n",
       "17  Universitat AutÃ²noma de Barcelona   \n",
       "18                 UniversitÃ  Bocconi   \n",
       "19                     Yale University   \n",
       "\n",
       "                                                  Url Students Enrolled  \\\n",
       "0     https://www.coursera.org/learn/machine-learning              4.4m   \n",
       "1    https://www.coursera.org/learn/indigenous-canada              390k   \n",
       "2   https://www.coursera.org/learn/the-science-of-...              3.6m   \n",
       "3   https://www.coursera.org/learn/financial-marke...                1m   \n",
       "4   https://www.coursera.org/learn/introduction-ps...              740k   \n",
       "5             https://www.coursera.org/learn/sciwrite              260k   \n",
       "6   https://www.coursera.org/learn/negotiation-skills              1.1m   \n",
       "7         https://www.coursera.org/learn/learn-korean                1m   \n",
       "8                https://www.coursera.org/learn/brand              210k   \n",
       "9      https://www.coursera.org/learn/food-and-health              610k   \n",
       "10  https://www.coursera.org/learn/stanford-statis...               44k   \n",
       "11      https://www.coursera.org/learn/private-equity              140k   \n",
       "12  https://www.coursera.org/learn/agile-atlassian...              110k   \n",
       "13  https://www.coursera.org/learn/clinical-termin...               76k   \n",
       "14         https://www.coursera.org/learn/negotiation              390k   \n",
       "15       https://www.coursera.org/learn/game-theory-1              350k   \n",
       "16   https://www.coursera.org/learn/content-marketing              240k   \n",
       "17                 https://www.coursera.org/learn/pap              400k   \n",
       "18              https://www.coursera.org/learn/mafash              180k   \n",
       "19  https://www.coursera.org/learn/managing-emotio...               73k   \n",
       "\n",
       "   Ratings  \n",
       "0      4.9  \n",
       "1      4.8  \n",
       "2      4.9  \n",
       "3      4.8  \n",
       "4      4.8  \n",
       "5      4.9  \n",
       "6      4.8  \n",
       "7      4.9  \n",
       "8      4.9  \n",
       "9      4.7  \n",
       "10     4.6  \n",
       "11     4.8  \n",
       "12     4.7  \n",
       "13     4.8  \n",
       "14     4.9  \n",
       "15     4.6  \n",
       "16     4.5  \n",
       "17     4.8  \n",
       "18     4.7  \n",
       "19     4.8  "
      ]
     },
     "metadata": {},
     "execution_count": 51
    }
   ],
   "metadata": {}
  },
  {
   "cell_type": "markdown",
   "source": [
    "## Create CSV File with the extracted Information\r\n"
   ],
   "metadata": {}
  },
  {
   "cell_type": "code",
   "execution_count": 52,
   "source": [
    "Courses_Data_Frame.to_csv('Courseera_Courses.csv', index = None)"
   ],
   "outputs": [],
   "metadata": {}
  }
 ],
 "metadata": {
  "orig_nbformat": 4,
  "language_info": {
   "name": "python",
   "version": "3.9.6",
   "mimetype": "text/x-python",
   "codemirror_mode": {
    "name": "ipython",
    "version": 3
   },
   "pygments_lexer": "ipython3",
   "nbconvert_exporter": "python",
   "file_extension": ".py"
  },
  "kernelspec": {
   "name": "python3",
   "display_name": "Python 3.9.6 64-bit"
  },
  "interpreter": {
   "hash": "1084118ec0a7608ab883fcf903db7d8ac769b926a9010f87416086cf45542a46"
  }
 },
 "nbformat": 4,
 "nbformat_minor": 2
}